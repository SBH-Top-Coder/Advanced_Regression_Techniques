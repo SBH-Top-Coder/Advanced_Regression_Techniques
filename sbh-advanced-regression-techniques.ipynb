{
 "cells": [
  {
   "cell_type": "markdown",
   "id": "eb0f7b02",
   "metadata": {
    "id": "k492AUBfXOmr",
    "papermill": {
     "duration": 0.046446,
     "end_time": "2021-09-09T09:26:38.030894",
     "exception": false,
     "start_time": "2021-09-09T09:26:37.984448",
     "status": "completed"
    },
    "tags": []
   },
   "source": [
    "Welcome to you for the best kernel of this competition. Coded by me Sémi Ben Hsan (SBH) .A Free lance Machine Learning Engineer (contact me for a work if want :p ) . This kernel includes all the advanced techniques of Regression\n",
    ", programmed in a professional way ( The SBH style ) and explained in detail . I am waiting for your votes, opinions and comments ... If you use parts of this notebook in your scripts/notebooks, giving some kind of credit would be very much appreciated :) You can for instance link back to this notebook. Thanks!"
   ]
  },
  {
   "cell_type": "markdown",
   "id": "a448afc6",
   "metadata": {
    "id": "dEauS1wPdZ6U",
    "papermill": {
     "duration": 0.04424,
     "end_time": "2021-09-09T09:26:38.120344",
     "exception": false,
     "start_time": "2021-09-09T09:26:38.076104",
     "status": "completed"
    },
    "tags": []
   },
   "source": [
    "0. Import \n",
    "1. Utils \n",
    "\n",
    "2. Reducing Memory Usage\n",
    "3. Missing values\n",
    "4. fillna\n",
    "5. Drop\n",
    "\n",
    "  5.1 Correlation matrix\n",
    "\n",
    "  5.2 Constant features\n",
    "\n",
    "  5.3 Random Forest selector \n",
    "\n",
    "  5.4 PCA \n",
    "\n",
    "6. Modeling \n",
    "\n",
    " 6.1 GridsearchCV\n",
    "\n",
    " 6.2 StratifiedKfoldCV train\n",
    " \n",
    " 6.3 Stacking "
   ]
  },
  {
   "cell_type": "markdown",
   "id": "d6b655f6",
   "metadata": {
    "id": "9SWfRwQbW_rd",
    "papermill": {
     "duration": 0.043929,
     "end_time": "2021-09-09T09:26:38.208408",
     "exception": false,
     "start_time": "2021-09-09T09:26:38.164479",
     "status": "completed"
    },
    "tags": []
   },
   "source": [
    "0. Import "
   ]
  },
  {
   "cell_type": "code",
   "execution_count": 1,
   "id": "3ef9c4e9",
   "metadata": {
    "execution": {
     "iopub.execute_input": "2021-09-09T09:26:38.326220Z",
     "iopub.status.busy": "2021-09-09T09:26:38.322280Z",
     "iopub.status.idle": "2021-09-09T09:26:39.802204Z",
     "shell.execute_reply": "2021-09-09T09:26:39.801507Z",
     "shell.execute_reply.started": "2021-09-01T22:38:57.178468Z"
    },
    "id": "MgBeZvlgW8sF",
    "papermill": {
     "duration": 1.548941,
     "end_time": "2021-09-09T09:26:39.802382",
     "exception": false,
     "start_time": "2021-09-09T09:26:38.253441",
     "status": "completed"
    },
    "tags": []
   },
   "outputs": [],
   "source": [
    "import pandas as pd \n",
    "import numpy as np\n",
    "from catboost import CatBoostClassifier\n",
    "from sklearn.model_selection import GridSearchCV"
   ]
  },
  {
   "cell_type": "markdown",
   "id": "23067eca",
   "metadata": {
    "id": "s1wD1SseW8sG",
    "papermill": {
     "duration": 0.045484,
     "end_time": "2021-09-09T09:26:39.890343",
     "exception": false,
     "start_time": "2021-09-09T09:26:39.844859",
     "status": "completed"
    },
    "tags": []
   },
   "source": [
    "1. Utils "
   ]
  },
  {
   "cell_type": "markdown",
   "id": "0fbe9c8a",
   "metadata": {
    "id": "7MPaKTirXhae",
    "papermill": {
     "duration": 0.041362,
     "end_time": "2021-09-09T09:26:39.978452",
     "exception": false,
     "start_time": "2021-09-09T09:26:39.937090",
     "status": "completed"
    },
    "tags": []
   },
   "source": [
    "Here I present some functions that will be useful for this notebook \n",
    "concat_df(train, test) : to concatenate the train and the test \n",
    "divide_df(all_data,shape) : to split the train and the test already concatenated \n",
    "load(path) : to load the data"
   ]
  },
  {
   "cell_type": "code",
   "execution_count": 2,
   "id": "8254cb07",
   "metadata": {
    "execution": {
     "iopub.execute_input": "2021-09-09T09:26:40.072038Z",
     "iopub.status.busy": "2021-09-09T09:26:40.071109Z",
     "iopub.status.idle": "2021-09-09T09:26:40.074834Z",
     "shell.execute_reply": "2021-09-09T09:26:40.074350Z",
     "shell.execute_reply.started": "2021-09-01T22:39:05.346197Z"
    },
    "id": "1pmiPTOjW8sO",
    "papermill": {
     "duration": 0.052639,
     "end_time": "2021-09-09T09:26:40.075003",
     "exception": false,
     "start_time": "2021-09-09T09:26:40.022364",
     "status": "completed"
    },
    "tags": []
   },
   "outputs": [],
   "source": [
    "def concat_df(train, test):\n",
    "    df = pd.concat([train,test],ignore_index=True )\n",
    "    return  df "
   ]
  },
  {
   "cell_type": "code",
   "execution_count": 3,
   "id": "4fa8c284",
   "metadata": {
    "execution": {
     "iopub.execute_input": "2021-09-09T09:26:40.164509Z",
     "iopub.status.busy": "2021-09-09T09:26:40.163813Z",
     "iopub.status.idle": "2021-09-09T09:26:40.167037Z",
     "shell.execute_reply": "2021-09-09T09:26:40.166413Z",
     "shell.execute_reply.started": "2021-09-01T22:39:06.118479Z"
    },
    "id": "2U18TD3oW8sQ",
    "papermill": {
     "duration": 0.049797,
     "end_time": "2021-09-09T09:26:40.167191",
     "exception": false,
     "start_time": "2021-09-09T09:26:40.117394",
     "status": "completed"
    },
    "tags": []
   },
   "outputs": [],
   "source": [
    "def divide_df(all_data,shape):\n",
    "    train,test = all_data.loc[:shape-1], all_data.loc[shape:].drop(['claim'], axis=1) \n",
    "    return train,test "
   ]
  },
  {
   "cell_type": "code",
   "execution_count": 4,
   "id": "0001de68",
   "metadata": {
    "execution": {
     "iopub.execute_input": "2021-09-09T09:26:40.256922Z",
     "iopub.status.busy": "2021-09-09T09:26:40.256278Z",
     "iopub.status.idle": "2021-09-09T09:26:40.259786Z",
     "shell.execute_reply": "2021-09-09T09:26:40.260269Z",
     "shell.execute_reply.started": "2021-09-01T22:39:06.578451Z"
    },
    "id": "EBCpcXgyW8sS",
    "papermill": {
     "duration": 0.049924,
     "end_time": "2021-09-09T09:26:40.260453",
     "exception": false,
     "start_time": "2021-09-09T09:26:40.210529",
     "status": "completed"
    },
    "tags": []
   },
   "outputs": [],
   "source": [
    "def load(path) : \n",
    "    df = pd.read_csv(path)\n",
    "    return df "
   ]
  },
  {
   "cell_type": "markdown",
   "id": "745293c0",
   "metadata": {
    "id": "Yft7tUY9W8sS",
    "papermill": {
     "duration": 0.041875,
     "end_time": "2021-09-09T09:26:40.344353",
     "exception": false,
     "start_time": "2021-09-09T09:26:40.302478",
     "status": "completed"
    },
    "tags": []
   },
   "source": [
    "2. Reducing Memory Usage"
   ]
  },
  {
   "cell_type": "code",
   "execution_count": 5,
   "id": "94faa9dc",
   "metadata": {
    "execution": {
     "iopub.execute_input": "2021-09-09T09:26:40.436790Z",
     "iopub.status.busy": "2021-09-09T09:26:40.436177Z",
     "iopub.status.idle": "2021-09-09T09:27:22.731978Z",
     "shell.execute_reply": "2021-09-09T09:27:22.730836Z",
     "shell.execute_reply.started": "2021-09-01T22:39:07.678536Z"
    },
    "id": "M6fnzWpxW8sS",
    "papermill": {
     "duration": 42.340666,
     "end_time": "2021-09-09T09:27:22.732159",
     "exception": false,
     "start_time": "2021-09-09T09:26:40.391493",
     "status": "completed"
    },
    "tags": []
   },
   "outputs": [],
   "source": [
    "train = load('../input/tabular-playground-series-sep-2021/train.csv')\n",
    "test = load('../input/tabular-playground-series-sep-2021/test.csv')"
   ]
  },
  {
   "cell_type": "markdown",
   "id": "9f028468",
   "metadata": {
    "id": "LYUdXgmlYFfo",
    "papermill": {
     "duration": 0.043109,
     "end_time": "2021-09-09T09:27:22.817244",
     "exception": false,
     "start_time": "2021-09-09T09:27:22.774135",
     "status": "completed"
    },
    "tags": []
   },
   "source": [
    "Here we will iterate through all the columns of a dataframe and modify the data typeto reduce memory usage.        \n",
    "    "
   ]
  },
  {
   "cell_type": "code",
   "execution_count": 6,
   "id": "38eb655b",
   "metadata": {
    "execution": {
     "iopub.execute_input": "2021-09-09T09:27:22.913433Z",
     "iopub.status.busy": "2021-09-09T09:27:22.912766Z",
     "iopub.status.idle": "2021-09-09T09:27:22.915356Z",
     "shell.execute_reply": "2021-09-09T09:27:22.915753Z",
     "shell.execute_reply.started": "2021-09-01T22:39:54.237048Z"
    },
    "id": "gWcvYMznW8sT",
    "papermill": {
     "duration": 0.056635,
     "end_time": "2021-09-09T09:27:22.915925",
     "exception": false,
     "start_time": "2021-09-09T09:27:22.859290",
     "status": "completed"
    },
    "tags": []
   },
   "outputs": [],
   "source": [
    "def reduce_mem_usage(df):\n",
    "   \n",
    "    start_mem = df.memory_usage().sum() / 1024**2\n",
    "    print('Memory usage of dataframe is {:.2f} MB'.format(start_mem))\n",
    "    \n",
    "    for col in df.columns:\n",
    "        col_type = df[col].dtype\n",
    "        \n",
    "        if col_type != object:\n",
    "            c_min = df[col].min()\n",
    "            c_max = df[col].max()\n",
    "            if str(col_type)[:3] == 'int':\n",
    "                if c_min > np.iinfo(np.int8).min and c_max < np.iinfo(np.int8).max:\n",
    "                    df[col] = df[col].astype(np.int8)\n",
    "                elif c_min > np.iinfo(np.int16).min and c_max < np.iinfo(np.int16).max:\n",
    "                    df[col] = df[col].astype(np.int16)\n",
    "                elif c_min > np.iinfo(np.int32).min and c_max < np.iinfo(np.int32).max:\n",
    "                    df[col] = df[col].astype(np.int32)\n",
    "                elif c_min > np.iinfo(np.int64).min and c_max < np.iinfo(np.int64).max:\n",
    "                    df[col] = df[col].astype(np.int64)  \n",
    "            else:\n",
    "                if c_min > np.finfo(np.float16).min and c_max < np.finfo(np.float16).max:\n",
    "                    df[col] = df[col].astype(np.float16)\n",
    "                elif c_min > np.finfo(np.float32).min and c_max < np.finfo(np.float32).max:\n",
    "                    df[col] = df[col].astype(np.float32)\n",
    "                else:\n",
    "                    df[col] = df[col].astype(np.float64)\n",
    "        else:\n",
    "            df[col] = df[col].astype('category')\n",
    "\n",
    "    end_mem = df.memory_usage().sum() / 1024**2\n",
    "    print('Memory usage after optimization is: {:.2f} MB'.format(end_mem))\n",
    "    print('Decreased by {:.1f}%'.format(100 * (start_mem - end_mem) / start_mem))\n",
    "    \n",
    "    return df"
   ]
  },
  {
   "cell_type": "code",
   "execution_count": 7,
   "id": "a85d6084",
   "metadata": {
    "execution": {
     "iopub.execute_input": "2021-09-09T09:27:23.010066Z",
     "iopub.status.busy": "2021-09-09T09:27:23.009422Z",
     "iopub.status.idle": "2021-09-09T09:27:47.937899Z",
     "shell.execute_reply": "2021-09-09T09:27:47.937385Z",
     "shell.execute_reply.started": "2021-09-01T22:39:54.254564Z"
    },
    "id": "pwacv_i1W8sU",
    "outputId": "30858817-eec6-41c8-feba-62ef5c5a06b7",
    "papermill": {
     "duration": 24.979981,
     "end_time": "2021-09-09T09:27:47.938065",
     "exception": false,
     "start_time": "2021-09-09T09:27:22.958084",
     "status": "completed"
    },
    "tags": []
   },
   "outputs": [
    {
     "name": "stdout",
     "output_type": "stream",
     "text": [
      "Memory usage of dataframe is 877.00 MB\n",
      "Memory usage after optimization is: 262.19 MB\n",
      "Decreased by 70.1%\n",
      "Memory usage of dataframe is 448.02 MB\n",
      "Memory usage after optimization is: 134.60 MB\n",
      "Decreased by 70.0%\n"
     ]
    }
   ],
   "source": [
    "train = reduce_mem_usage(train)\n",
    "test = reduce_mem_usage(test)"
   ]
  },
  {
   "cell_type": "code",
   "execution_count": 8,
   "id": "672bfa1f",
   "metadata": {
    "execution": {
     "iopub.execute_input": "2021-09-09T09:27:48.034802Z",
     "iopub.status.busy": "2021-09-09T09:27:48.034203Z",
     "iopub.status.idle": "2021-09-09T09:27:48.808049Z",
     "shell.execute_reply": "2021-09-09T09:27:48.808560Z",
     "shell.execute_reply.started": "2021-09-01T22:40:19.55297Z"
    },
    "id": "kd3fx86mW8sU",
    "papermill": {
     "duration": 0.825128,
     "end_time": "2021-09-09T09:27:48.808730",
     "exception": false,
     "start_time": "2021-09-09T09:27:47.983602",
     "status": "completed"
    },
    "tags": []
   },
   "outputs": [],
   "source": [
    "df_all = concat_df(train, test)"
   ]
  },
  {
   "cell_type": "markdown",
   "id": "796acb86",
   "metadata": {
    "id": "4P1aNE5MW8sV",
    "papermill": {
     "duration": 0.043018,
     "end_time": "2021-09-09T09:27:48.895594",
     "exception": false,
     "start_time": "2021-09-09T09:27:48.852576",
     "status": "completed"
    },
    "tags": []
   },
   "source": [
    "3. Missing values"
   ]
  },
  {
   "cell_type": "markdown",
   "id": "0d39a917",
   "metadata": {
    "id": "gfQQcxNKYQlp",
    "papermill": {
     "duration": 0.042959,
     "end_time": "2021-09-09T09:27:48.983122",
     "exception": false,
     "start_time": "2021-09-09T09:27:48.940163",
     "status": "completed"
    },
    "tags": []
   },
   "source": [
    "since we can only run a model after checking that our data set does not contain any nan we have to do a quick visualization "
   ]
  },
  {
   "cell_type": "code",
   "execution_count": 9,
   "id": "3d371a25",
   "metadata": {
    "execution": {
     "iopub.execute_input": "2021-09-09T09:27:49.077087Z",
     "iopub.status.busy": "2021-09-09T09:27:49.076428Z",
     "iopub.status.idle": "2021-09-09T09:27:49.155077Z",
     "shell.execute_reply": "2021-09-09T09:27:49.155572Z",
     "shell.execute_reply.started": "2021-09-01T22:40:39.479886Z"
    },
    "id": "vfa_ieJUW8sV",
    "papermill": {
     "duration": 0.129385,
     "end_time": "2021-09-09T09:27:49.155735",
     "exception": false,
     "start_time": "2021-09-09T09:27:49.026350",
     "status": "completed"
    },
    "tags": []
   },
   "outputs": [],
   "source": [
    "import matplotlib.pyplot as plt\n",
    "import seaborn as sns\n",
    "def missing_values(df): \n",
    "  total = df.isnull().sum().sort_values(ascending=False)\n",
    "  percent = (df.isnull().sum()/df.isnull().count()).sort_values(ascending=False)\n",
    "  missing_data = pd.concat([total, percent], axis=1, keys=['Total', 'Percent'])\n",
    "  f, ax = plt.subplots(figsize=(15, 6))\n",
    "  plt.xticks(rotation='90')\n",
    "  sns.barplot(x=missing_data.index, y=missing_data['Percent'])\n",
    "  plt.xlabel('Features', fontsize=15)\n",
    "  plt.ylabel('Percent of Missing Values', fontsize=15)\n",
    "  plt.title('Percentage of Missing Data by Feature', fontsize=15)\n",
    "  # missing_data.head()\n",
    "  return (missing_data)"
   ]
  },
  {
   "cell_type": "code",
   "execution_count": 10,
   "id": "9d0eb247",
   "metadata": {
    "execution": {
     "iopub.execute_input": "2021-09-09T09:27:49.246661Z",
     "iopub.status.busy": "2021-09-09T09:27:49.246125Z",
     "iopub.status.idle": "2021-09-09T09:27:52.640209Z",
     "shell.execute_reply": "2021-09-09T09:27:52.640688Z",
     "shell.execute_reply.started": "2021-09-01T22:40:40.158709Z"
    },
    "id": "26gXv6iFW8sV",
    "outputId": "c402b38a-d8c3-4650-da15-4d8620f7b630",
    "papermill": {
     "duration": 3.4408,
     "end_time": "2021-09-09T09:27:52.640857",
     "exception": false,
     "start_time": "2021-09-09T09:27:49.200057",
     "status": "completed"
    },
    "tags": []
   },
   "outputs": [
    {
     "data": {
      "image/png": "[encoded data removed]",
      "text/plain": [
       "<Figure size 1080x432 with 1 Axes>"
      ]
     },
     "metadata": {
      "needs_background": "light"
     },
     "output_type": "display_data"
    }
   ],
   "source": [
    "missing_data = missing_values(train)"
   ]
  },
  {
   "cell_type": "markdown",
   "id": "72454960",
   "metadata": {
    "id": "VWZRMyS-YfSc",
    "papermill": {
     "duration": 0.043467,
     "end_time": "2021-09-09T09:27:52.728625",
     "exception": false,
     "start_time": "2021-09-09T09:27:52.685158",
     "status": "completed"
    },
    "tags": []
   },
   "source": [
    "As shown in the figure, our data set contains several nans. We have to do a filling nans job"
   ]
  },
  {
   "cell_type": "markdown",
   "id": "35600c58",
   "metadata": {
    "id": "TCZaLvW6W8sW",
    "papermill": {
     "duration": 0.043981,
     "end_time": "2021-09-09T09:27:52.817502",
     "exception": false,
     "start_time": "2021-09-09T09:27:52.773521",
     "status": "completed"
    },
    "tags": []
   },
   "source": [
    "4. fillna"
   ]
  },
  {
   "cell_type": "markdown",
   "id": "3b131695",
   "metadata": {
    "id": "ds9DPdziZISU",
    "papermill": {
     "duration": 0.044072,
     "end_time": "2021-09-09T09:27:52.906415",
     "exception": false,
     "start_time": "2021-09-09T09:27:52.862343",
     "status": "completed"
    },
    "tags": []
   },
   "source": [
    "Two methods proposed here : \n",
    "- SimpleImputer of sklearn \n",
    "- Random sampling : consists in filling the nans of each column with values already existing in the considered column "
   ]
  },
  {
   "cell_type": "code",
   "execution_count": 11,
   "id": "408e8fcc",
   "metadata": {
    "execution": {
     "iopub.execute_input": "2021-09-09T09:27:52.998458Z",
     "iopub.status.busy": "2021-09-09T09:27:52.997797Z",
     "iopub.status.idle": "2021-09-09T09:27:53.001376Z",
     "shell.execute_reply": "2021-09-09T09:27:53.001873Z",
     "shell.execute_reply.started": "2021-09-01T22:40:48.158587Z"
    },
    "id": "9ddFbL7qW8sW",
    "papermill": {
     "duration": 0.050715,
     "end_time": "2021-09-09T09:27:53.002077",
     "exception": false,
     "start_time": "2021-09-09T09:27:52.951362",
     "status": "completed"
    },
    "tags": []
   },
   "outputs": [],
   "source": [
    "# from sklearn.impute import SimpleImputer\n",
    "# import numpy as np\n",
    "# def Fillna(train,test):\n",
    "#     imp_mean = SimpleImputer(missing_values=np.nan, strategy='mean')\n",
    "#     train = imp_mean.fit_transform(train.drop('claim',axis=1))\n",
    "#     test = imp_mean.transform(test)\n",
    "#     return train,test"
   ]
  },
  {
   "cell_type": "code",
   "execution_count": 12,
   "id": "879b9f05",
   "metadata": {
    "execution": {
     "iopub.execute_input": "2021-09-09T09:27:53.095992Z",
     "iopub.status.busy": "2021-09-09T09:27:53.095332Z",
     "iopub.status.idle": "2021-09-09T09:27:53.100277Z",
     "shell.execute_reply": "2021-09-09T09:27:53.100714Z",
     "shell.execute_reply.started": "2021-09-01T22:40:48.944932Z"
    },
    "id": "aJteQ5VcW8sW",
    "papermill": {
     "duration": 0.053215,
     "end_time": "2021-09-09T09:27:53.100910",
     "exception": false,
     "start_time": "2021-09-09T09:27:53.047695",
     "status": "completed"
    },
    "tags": []
   },
   "outputs": [],
   "source": [
    "def Random_sampling(df, variable):\n",
    "    # extract the random sample to fill the na\n",
    "    random_sample = df[variable].dropna().sample(df[variable].isnull().sum(), random_state=0) \n",
    "    # pandas needs to have the same index in order to merge datasets\n",
    "    random_sample.index = df[df[variable].isnull()].index\n",
    "    df.loc[df[variable].isnull(), variable] = random_sample\n"
   ]
  },
  {
   "cell_type": "code",
   "execution_count": 13,
   "id": "beb2199d",
   "metadata": {
    "execution": {
     "iopub.execute_input": "2021-09-09T09:27:53.194562Z",
     "iopub.status.busy": "2021-09-09T09:27:53.193849Z",
     "iopub.status.idle": "2021-09-09T09:27:53.198888Z",
     "shell.execute_reply": "2021-09-09T09:27:53.198349Z",
     "shell.execute_reply.started": "2021-09-01T22:40:51.318578Z"
    },
    "id": "K8eyB3xeW8sX",
    "papermill": {
     "duration": 0.053234,
     "end_time": "2021-09-09T09:27:53.199045",
     "exception": false,
     "start_time": "2021-09-09T09:27:53.145811",
     "status": "completed"
    },
    "tags": []
   },
   "outputs": [],
   "source": [
    "def missing_search (missing_data) : \n",
    "    missing_columns = [idx for idx , row in missing_data.iterrows() if row['Percent'] != 0 ]\n",
    "    return missing_columns"
   ]
  },
  {
   "cell_type": "code",
   "execution_count": 14,
   "id": "cfb7ded6",
   "metadata": {
    "execution": {
     "iopub.execute_input": "2021-09-09T09:27:53.300863Z",
     "iopub.status.busy": "2021-09-09T09:27:53.299890Z",
     "iopub.status.idle": "2021-09-09T09:27:53.303294Z",
     "shell.execute_reply": "2021-09-09T09:27:53.302657Z",
     "shell.execute_reply.started": "2021-09-01T22:40:52.318932Z"
    },
    "id": "lDOnEwQ_W8sX",
    "papermill": {
     "duration": 0.059692,
     "end_time": "2021-09-09T09:27:53.303452",
     "exception": false,
     "start_time": "2021-09-09T09:27:53.243760",
     "status": "completed"
    },
    "tags": []
   },
   "outputs": [],
   "source": [
    "missing_columns = missing_search (missing_data)"
   ]
  },
  {
   "cell_type": "code",
   "execution_count": 15,
   "id": "931f067d",
   "metadata": {
    "execution": {
     "iopub.execute_input": "2021-09-09T09:27:53.398257Z",
     "iopub.status.busy": "2021-09-09T09:27:53.397548Z",
     "iopub.status.idle": "2021-09-09T09:27:53.400827Z",
     "shell.execute_reply": "2021-09-09T09:27:53.400323Z",
     "shell.execute_reply.started": "2021-09-01T22:40:52.78501Z"
    },
    "id": "BewxvZTZW8sY",
    "papermill": {
     "duration": 0.052565,
     "end_time": "2021-09-09T09:27:53.401000",
     "exception": false,
     "start_time": "2021-09-09T09:27:53.348435",
     "status": "completed"
    },
    "tags": []
   },
   "outputs": [],
   "source": [
    "def fillna(df_all,missing_columns):\n",
    "    for column in missing_columns: \n",
    "        Random_sampling(df_all,column) \n",
    "    return df_all"
   ]
  },
  {
   "cell_type": "code",
   "execution_count": 16,
   "id": "3b7fd609",
   "metadata": {
    "execution": {
     "iopub.execute_input": "2021-09-09T09:27:53.493401Z",
     "iopub.status.busy": "2021-09-09T09:27:53.492484Z",
     "iopub.status.idle": "2021-09-09T09:28:10.245481Z",
     "shell.execute_reply": "2021-09-09T09:28:10.244793Z",
     "shell.execute_reply.started": "2021-09-01T22:40:53.204707Z"
    },
    "id": "7vUnsGIvW8sY",
    "papermill": {
     "duration": 16.800031,
     "end_time": "2021-09-09T09:28:10.245621",
     "exception": false,
     "start_time": "2021-09-09T09:27:53.445590",
     "status": "completed"
    },
    "tags": []
   },
   "outputs": [],
   "source": [
    "df_all = fillna(df_all,missing_columns)"
   ]
  },
  {
   "cell_type": "code",
   "execution_count": 17,
   "id": "58993bb3",
   "metadata": {
    "execution": {
     "iopub.execute_input": "2021-09-09T09:28:10.340302Z",
     "iopub.status.busy": "2021-09-09T09:28:10.339613Z",
     "iopub.status.idle": "2021-09-09T09:28:14.265324Z",
     "shell.execute_reply": "2021-09-09T09:28:14.264695Z",
     "shell.execute_reply.started": "2021-09-01T22:41:10.307082Z"
    },
    "id": "IGZnpY-VW8sY",
    "outputId": "b0cb4d53-3447-42f7-eb2f-3333a53bd264",
    "papermill": {
     "duration": 3.973913,
     "end_time": "2021-09-09T09:28:14.265456",
     "exception": false,
     "start_time": "2021-09-09T09:28:10.291543",
     "status": "completed"
    },
    "tags": []
   },
   "outputs": [
    {
     "data": {
      "image/png": "[encoded data removed]",
      "text/plain": [
       "<Figure size 1080x432 with 1 Axes>"
      ]
     },
     "metadata": {
      "needs_background": "light"
     },
     "output_type": "display_data"
    }
   ],
   "source": [
    "_ = missing_values(df_all)"
   ]
  },
  {
   "cell_type": "code",
   "execution_count": 18,
   "id": "60f14df5",
   "metadata": {
    "execution": {
     "iopub.execute_input": "2021-09-09T09:28:14.363461Z",
     "iopub.status.busy": "2021-09-09T09:28:14.361492Z",
     "iopub.status.idle": "2021-09-09T09:28:14.476868Z",
     "shell.execute_reply": "2021-09-09T09:28:14.476328Z",
     "shell.execute_reply.started": "2021-09-01T22:41:14.524502Z"
    },
    "id": "-pT8ndS2W8sZ",
    "papermill": {
     "duration": 0.165576,
     "end_time": "2021-09-09T09:28:14.477033",
     "exception": false,
     "start_time": "2021-09-09T09:28:14.311457",
     "status": "completed"
    },
    "tags": []
   },
   "outputs": [],
   "source": [
    "train, test = divide_df(df_all,train.shape[0])"
   ]
  },
  {
   "cell_type": "markdown",
   "id": "e3ee4ae7",
   "metadata": {
    "id": "dId3g6BtZOLX",
    "papermill": {
     "duration": 0.047073,
     "end_time": "2021-09-09T09:28:14.570163",
     "exception": false,
     "start_time": "2021-09-09T09:28:14.523090",
     "status": "completed"
    },
    "tags": []
   },
   "source": [
    "Here is our pure (clean) data, without any nans to consider "
   ]
  },
  {
   "cell_type": "markdown",
   "id": "e1bfdc23",
   "metadata": {
    "id": "PraOv6ljW8sZ",
    "papermill": {
     "duration": 0.045962,
     "end_time": "2021-09-09T09:28:14.663265",
     "exception": false,
     "start_time": "2021-09-09T09:28:14.617303",
     "status": "completed"
    },
    "tags": []
   },
   "source": [
    "5. Drop "
   ]
  },
  {
   "cell_type": "markdown",
   "id": "4b5d8869",
   "metadata": {
    "id": "8zAEEb8MZZ-9",
    "papermill": {
     "duration": 0.044773,
     "end_time": "2021-09-09T09:28:14.753076",
     "exception": false,
     "start_time": "2021-09-09T09:28:14.708303",
     "status": "completed"
    },
    "tags": []
   },
   "source": [
    "Since we have a large space here (120 columns) reducing this space would be an extraordinary idea. Several methods proposed here "
   ]
  },
  {
   "cell_type": "markdown",
   "id": "1ebf1ad8",
   "metadata": {
    "id": "rOiTgGouW8sZ",
    "papermill": {
     "duration": 0.044578,
     "end_time": "2021-09-09T09:28:14.842267",
     "exception": false,
     "start_time": "2021-09-09T09:28:14.797689",
     "status": "completed"
    },
    "tags": []
   },
   "source": [
    "5.1 Correlation matrix\n"
   ]
  },
  {
   "cell_type": "markdown",
   "id": "a3a3eb79",
   "metadata": {
    "id": "gQ7qDhwHZytD",
    "papermill": {
     "duration": 0.044989,
     "end_time": "2021-09-09T09:28:14.931812",
     "exception": false,
     "start_time": "2021-09-09T09:28:14.886823",
     "status": "completed"
    },
    "tags": []
   },
   "source": [
    "The correlation matrix here is used to study the correlation between different columns. Two correlated columns would be better to keep one and delete one since the second one has no meaning it adds no information and it increases the space for nothing "
   ]
  },
  {
   "cell_type": "code",
   "execution_count": 19,
   "id": "9507d9b1",
   "metadata": {
    "execution": {
     "iopub.execute_input": "2021-09-09T09:28:15.027855Z",
     "iopub.status.busy": "2021-09-09T09:28:15.027200Z",
     "iopub.status.idle": "2021-09-09T09:28:15.030909Z",
     "shell.execute_reply": "2021-09-09T09:28:15.030286Z",
     "shell.execute_reply.started": "2021-09-01T22:41:14.640739Z"
    },
    "id": "rUKg-z2CW8sa",
    "papermill": {
     "duration": 0.054576,
     "end_time": "2021-09-09T09:28:15.031068",
     "exception": false,
     "start_time": "2021-09-09T09:28:14.976492",
     "status": "completed"
    },
    "tags": []
   },
   "outputs": [],
   "source": [
    "def correlation_matrix (df) : \n",
    "    corr = df.corr(method='pearson')\n",
    "    mask = np.zeros_like(corr, dtype=np.bool)\n",
    "    mask[np.triu_indices_from(mask)] = True\n",
    "    f, ax = plt.subplots(figsize=(12, 9))\n",
    "    sns.heatmap(corr, mask=mask, vmax=1, center=0, annot=True, fmt='.1f',\n",
    "                square=True, linewidths=.5, cbar_kws={\"shrink\": .5});\n",
    "    return corr\n",
    "    "
   ]
  },
  {
   "cell_type": "code",
   "execution_count": 20,
   "id": "2bb6ffac",
   "metadata": {
    "execution": {
     "iopub.execute_input": "2021-09-09T09:28:15.127144Z",
     "iopub.status.busy": "2021-09-09T09:28:15.126466Z",
     "iopub.status.idle": "2021-09-09T09:29:20.484117Z",
     "shell.execute_reply": "2021-09-09T09:29:20.484590Z",
     "shell.execute_reply.started": "2021-09-01T22:41:14.649167Z"
    },
    "id": "irPbC4XVW8sc",
    "outputId": "455e99eb-321f-43f2-85cb-fe30a59b7871",
    "papermill": {
     "duration": 65.407695,
     "end_time": "2021-09-09T09:29:20.484775",
     "exception": false,
     "start_time": "2021-09-09T09:28:15.077080",
     "status": "completed"
    },
    "tags": []
   },
   "outputs": [
    {
     "data": {
      "image/png": "[encoded data removed]",
      "text/plain": [
       "<Figure size 864x648 with 2 Axes>"
      ]
     },
     "metadata": {
      "needs_background": "light"
     },
     "output_type": "display_data"
    }
   ],
   "source": [
    "corr  = correlation_matrix (train)\n"
   ]
  },
  {
   "cell_type": "code",
   "execution_count": 21,
   "id": "4fd75727",
   "metadata": {
    "execution": {
     "iopub.execute_input": "2021-09-09T09:29:20.591135Z",
     "iopub.status.busy": "2021-09-09T09:29:20.590174Z",
     "iopub.status.idle": "2021-09-09T09:29:20.593400Z",
     "shell.execute_reply": "2021-09-09T09:29:20.592872Z",
     "shell.execute_reply.started": "2021-09-01T22:42:29.298822Z"
    },
    "id": "wFlKGjJ1W8sd",
    "papermill": {
     "duration": 0.058714,
     "end_time": "2021-09-09T09:29:20.593546",
     "exception": false,
     "start_time": "2021-09-09T09:29:20.534832",
     "status": "completed"
    },
    "tags": []
   },
   "outputs": [],
   "source": [
    "def to_drop_feat_corr (corr,threshold) :\n",
    "    # Select upper triangle of correlation matrix\n",
    "    upper = corr.where(np.triu(np.ones(corr.shape), k=1).astype(np.bool))\n",
    "    # Find index of feature columns with correlation greater than 0.95\n",
    "    to_drop = [column for column in upper.columns if any(upper[column] >threshold )]\n",
    "    return to_drop "
   ]
  },
  {
   "cell_type": "code",
   "execution_count": 22,
   "id": "5d57c693",
   "metadata": {
    "execution": {
     "iopub.execute_input": "2021-09-09T09:29:20.709146Z",
     "iopub.status.busy": "2021-09-09T09:29:20.698925Z",
     "iopub.status.idle": "2021-09-09T09:29:20.735586Z",
     "shell.execute_reply": "2021-09-09T09:29:20.734825Z",
     "shell.execute_reply.started": "2021-09-01T22:42:29.504677Z"
    },
    "id": "xbTsSf6QW8se",
    "papermill": {
     "duration": 0.091606,
     "end_time": "2021-09-09T09:29:20.735724",
     "exception": false,
     "start_time": "2021-09-09T09:29:20.644118",
     "status": "completed"
    },
    "tags": []
   },
   "outputs": [],
   "source": [
    "to_drop = to_drop_feat_corr (corr,0.95)"
   ]
  },
  {
   "cell_type": "code",
   "execution_count": 23,
   "id": "91753e55",
   "metadata": {
    "execution": {
     "iopub.execute_input": "2021-09-09T09:29:20.840498Z",
     "iopub.status.busy": "2021-09-09T09:29:20.839824Z",
     "iopub.status.idle": "2021-09-09T09:29:20.843232Z",
     "shell.execute_reply": "2021-09-09T09:29:20.842650Z",
     "shell.execute_reply.started": "2021-09-01T22:42:30.09873Z"
    },
    "id": "goeiNYBiW8se",
    "outputId": "99411a88-31cd-491a-b381-e8ece49b1953",
    "papermill": {
     "duration": 0.057699,
     "end_time": "2021-09-09T09:29:20.843360",
     "exception": false,
     "start_time": "2021-09-09T09:29:20.785661",
     "status": "completed"
    },
    "tags": []
   },
   "outputs": [
    {
     "data": {
      "text/plain": [
       "[]"
      ]
     },
     "execution_count": 23,
     "metadata": {},
     "output_type": "execute_result"
    }
   ],
   "source": [
    "to_drop"
   ]
  },
  {
   "cell_type": "markdown",
   "id": "8ac17910",
   "metadata": {
    "id": "WzO7QB9PW8sf",
    "papermill": {
     "duration": 0.050399,
     "end_time": "2021-09-09T09:29:20.943849",
     "exception": false,
     "start_time": "2021-09-09T09:29:20.893450",
     "status": "completed"
    },
    "tags": []
   },
   "source": [
    "5.2 Constant features"
   ]
  },
  {
   "cell_type": "markdown",
   "id": "50bb62d9",
   "metadata": {
    "id": "if2SNRoAaPZH",
    "papermill": {
     "duration": 0.051029,
     "end_time": "2021-09-09T09:29:21.044673",
     "exception": false,
     "start_time": "2021-09-09T09:29:20.993644",
     "status": "completed"
    },
    "tags": []
   },
   "source": [
    "A constant (quasi constant) column has absolutely no added value since it takes the same value for any observation it would be better to delete it. sklearn offers here the VarianceThreshold tool which is used to find the columns that have a variance lower than a certain threshold and delete it "
   ]
  },
  {
   "cell_type": "code",
   "execution_count": 24,
   "id": "d76a61cd",
   "metadata": {
    "execution": {
     "iopub.execute_input": "2021-09-09T09:29:21.160577Z",
     "iopub.status.busy": "2021-09-09T09:29:21.159816Z",
     "iopub.status.idle": "2021-09-09T09:29:21.360328Z",
     "shell.execute_reply": "2021-09-09T09:29:21.360795Z",
     "shell.execute_reply.started": "2021-09-01T22:42:31.939029Z"
    },
    "id": "6cIXgtlkW8sf",
    "papermill": {
     "duration": 0.263834,
     "end_time": "2021-09-09T09:29:21.361021",
     "exception": false,
     "start_time": "2021-09-09T09:29:21.097187",
     "status": "completed"
    },
    "tags": []
   },
   "outputs": [],
   "source": [
    "from sklearn.feature_selection import VarianceThreshold\n",
    "def constant_features (df,threshold) :  \n",
    "    sel = VarianceThreshold(threshold=threshold)\n",
    "    sel.fit(df)  # fit finds the features with zero variance\n",
    "    to_drop = [x for x in df.columns if x not in df.columns[sel.get_support()]]\n",
    "    return to_drop "
   ]
  },
  {
   "cell_type": "code",
   "execution_count": 25,
   "id": "3e6c88ed",
   "metadata": {
    "execution": {
     "iopub.execute_input": "2021-09-09T09:29:21.476207Z",
     "iopub.status.busy": "2021-09-09T09:29:21.474720Z",
     "iopub.status.idle": "2021-09-09T09:29:23.163850Z",
     "shell.execute_reply": "2021-09-09T09:29:23.162913Z",
     "shell.execute_reply.started": "2021-09-01T22:42:32.358699Z"
    },
    "id": "bt2Cd1YOW8sf",
    "papermill": {
     "duration": 1.750425,
     "end_time": "2021-09-09T09:29:23.164009",
     "exception": false,
     "start_time": "2021-09-09T09:29:21.413584",
     "status": "completed"
    },
    "tags": []
   },
   "outputs": [],
   "source": [
    "to_drop = constant_features (train,0.01)"
   ]
  },
  {
   "cell_type": "code",
   "execution_count": 26,
   "id": "7214f599",
   "metadata": {
    "execution": {
     "iopub.execute_input": "2021-09-09T09:29:23.274801Z",
     "iopub.status.busy": "2021-09-09T09:29:23.273880Z",
     "iopub.status.idle": "2021-09-09T09:29:23.278387Z",
     "shell.execute_reply": "2021-09-09T09:29:23.277773Z",
     "shell.execute_reply.started": "2021-09-01T22:42:34.081603Z"
    },
    "id": "tx2uOSpRW8sg",
    "outputId": "3b80849a-33a9-4279-a46e-6f9576184eef",
    "papermill": {
     "duration": 0.061792,
     "end_time": "2021-09-09T09:29:23.278534",
     "exception": false,
     "start_time": "2021-09-09T09:29:23.216742",
     "status": "completed"
    },
    "tags": []
   },
   "outputs": [
    {
     "data": {
      "text/plain": [
       "['f1', 'f34', 'f45', 'f57', 'f97', 'f107']"
      ]
     },
     "execution_count": 26,
     "metadata": {},
     "output_type": "execute_result"
    }
   ],
   "source": [
    "to_drop"
   ]
  },
  {
   "cell_type": "code",
   "execution_count": 27,
   "id": "57dae662",
   "metadata": {
    "execution": {
     "iopub.execute_input": "2021-09-09T09:29:23.385731Z",
     "iopub.status.busy": "2021-09-09T09:29:23.384967Z",
     "iopub.status.idle": "2021-09-09T09:29:23.387818Z",
     "shell.execute_reply": "2021-09-09T09:29:23.388313Z",
     "shell.execute_reply.started": "2021-09-01T22:43:34.045433Z"
    },
    "id": "rmVPzcVgW8sg",
    "papermill": {
     "duration": 0.05846,
     "end_time": "2021-09-09T09:29:23.388492",
     "exception": false,
     "start_time": "2021-09-09T09:29:23.330032",
     "status": "completed"
    },
    "tags": []
   },
   "outputs": [],
   "source": [
    "# df_all.drop(to_drop,axis=1,inplace=True) "
   ]
  },
  {
   "cell_type": "markdown",
   "id": "c93ed55a",
   "metadata": {
    "id": "oO15GfiybCe7",
    "papermill": {
     "duration": 0.053288,
     "end_time": "2021-09-09T09:29:23.493673",
     "exception": false,
     "start_time": "2021-09-09T09:29:23.440385",
     "status": "completed"
    },
    "tags": []
   },
   "source": [
    "5.3 Random forest selector "
   ]
  },
  {
   "cell_type": "markdown",
   "id": "3a9f7905",
   "metadata": {
    "id": "DJxIbdmxbkHH",
    "papermill": {
     "duration": 0.05302,
     "end_time": "2021-09-09T09:29:23.602647",
     "exception": false,
     "start_time": "2021-09-09T09:29:23.549627",
     "status": "completed"
    },
    "tags": []
   },
   "source": [
    "Random forests are one the most popular machine learning algorithms. They are so successful because they provide in general a good predictive performance, low overfitting and easy interpretability. This interpretability is given by the fact that it is straightforward to derive the importance of each variable on the tree decision. In other words, it is easy to compute how much each variable is contributing to the decision.\n",
    "\n"
   ]
  },
  {
   "cell_type": "markdown",
   "id": "2f545e53",
   "metadata": {
    "id": "gRyZjurdbk_v",
    "papermill": {
     "duration": 0.050365,
     "end_time": "2021-09-09T09:29:23.707067",
     "exception": false,
     "start_time": "2021-09-09T09:29:23.656702",
     "status": "completed"
    },
    "tags": []
   },
   "source": [
    "To give a better intuition, features that are selected at the top of the trees are in general more important than features that are selected at the end nodes of the trees, as generally the top splits lead to bigger information gains."
   ]
  },
  {
   "cell_type": "markdown",
   "id": "5b70536e",
   "metadata": {
    "id": "ts5-j07YbquP",
    "papermill": {
     "duration": 0.050482,
     "end_time": "2021-09-09T09:29:23.808215",
     "exception": false,
     "start_time": "2021-09-09T09:29:23.757733",
     "status": "completed"
    },
    "tags": []
   },
   "source": [
    "I will demonstrate this process using it as follows\n",
    "\n"
   ]
  },
  {
   "cell_type": "code",
   "execution_count": 28,
   "id": "01c204a0",
   "metadata": {
    "execution": {
     "iopub.execute_input": "2021-09-09T09:29:23.915876Z",
     "iopub.status.busy": "2021-09-09T09:29:23.915280Z",
     "iopub.status.idle": "2021-09-09T09:29:23.975686Z",
     "shell.execute_reply": "2021-09-09T09:29:23.976148Z",
     "shell.execute_reply.started": "2021-09-01T22:43:38.158792Z"
    },
    "id": "2-F4rq2cW8sh",
    "papermill": {
     "duration": 0.117714,
     "end_time": "2021-09-09T09:29:23.976330",
     "exception": false,
     "start_time": "2021-09-09T09:29:23.858616",
     "status": "completed"
    },
    "tags": []
   },
   "outputs": [],
   "source": [
    "import seaborn as sns \n",
    "import matplotlib. pyplot as plt\n",
    "from sklearn.ensemble import RandomForestClassifier\n",
    "def feature_importance (df) : \n",
    "    clf = RandomForestClassifier(n_estimators=1, random_state=0)\n",
    "    clf.fit(df.drop('claim',axis=1) ,df['claim']) # 'loss' hia label \n",
    "    #visualize feature importance\n",
    "    plt.figure(num=None, figsize=(10,8), dpi=80, facecolor='w', edgecolor='k')\n",
    "    feat_importances = pd.Series(clf.feature_importances_, index= df.drop('claim',axis=1).columns)\n",
    "    feat_importances.nlargest(7).plot(kind='barh')\n",
    "    return feat_importances\n"
   ]
  },
  {
   "cell_type": "code",
   "execution_count": 29,
   "id": "65386c69",
   "metadata": {
    "execution": {
     "iopub.execute_input": "2021-09-09T09:29:24.087284Z",
     "iopub.status.busy": "2021-09-09T09:29:24.086344Z",
     "iopub.status.idle": "2021-09-09T09:29:55.899429Z",
     "shell.execute_reply": "2021-09-09T09:29:55.899899Z",
     "shell.execute_reply.started": "2021-09-01T22:43:38.618808Z"
    },
    "id": "12IINvHrW8si",
    "outputId": "371b58a1-28e8-4e21-bdb6-3c6caa740516",
    "papermill": {
     "duration": 31.872936,
     "end_time": "2021-09-09T09:29:55.900084",
     "exception": false,
     "start_time": "2021-09-09T09:29:24.027148",
     "status": "completed"
    },
    "tags": []
   },
   "outputs": [
    {
     "data": {
      "image/png": "[encoded data removed]",
      "text/plain": [
       "<Figure size 800x640 with 1 Axes>"
      ]
     },
     "metadata": {},
     "output_type": "display_data"
    }
   ],
   "source": [
    "feat_importances = feature_importance (train)"
   ]
  },
  {
   "cell_type": "markdown",
   "id": "0fe70ad7",
   "metadata": {
    "papermill": {
     "duration": 0.052337,
     "end_time": "2021-09-09T09:29:56.004605",
     "exception": false,
     "start_time": "2021-09-09T09:29:55.952268",
     "status": "completed"
    },
    "tags": []
   },
   "source": [
    "And then you can choose to do the train with the most important features that you choose"
   ]
  },
  {
   "cell_type": "markdown",
   "id": "5695df61",
   "metadata": {
    "id": "e2DvSct_W8si",
    "papermill": {
     "duration": 0.051043,
     "end_time": "2021-09-09T09:29:56.107244",
     "exception": false,
     "start_time": "2021-09-09T09:29:56.056201",
     "status": "completed"
    },
    "tags": []
   },
   "source": [
    "5.4 PCA"
   ]
  },
  {
   "cell_type": "markdown",
   "id": "decf192f",
   "metadata": {
    "id": "YPN-a0Dob9Hm",
    "papermill": {
     "duration": 0.050891,
     "end_time": "2021-09-09T09:29:56.210265",
     "exception": false,
     "start_time": "2021-09-09T09:29:56.159374",
     "status": "completed"
    },
    "tags": []
   },
   "source": [
    "Dimensionality reduction is way to reduce the complexity of a model and avoid overfitting. There are two main categories of dimensionality reduction: feature selection and feature extraction. Via feature selection, we select a subset of the original features (the past methods ) , whereas in feature extraction (this method ) , we derive information from the feature set to construct a new feature subspace."
   ]
  },
  {
   "cell_type": "code",
   "execution_count": 30,
   "id": "4820ada2",
   "metadata": {
    "execution": {
     "iopub.execute_input": "2021-09-09T09:29:56.326662Z",
     "iopub.status.busy": "2021-09-09T09:29:56.325987Z",
     "iopub.status.idle": "2021-09-09T09:30:06.793793Z",
     "shell.execute_reply": "2021-09-09T09:30:06.794257Z",
     "shell.execute_reply.started": "2021-09-01T22:44:33.080573Z"
    },
    "id": "69PADrCDW8sj",
    "papermill": {
     "duration": 10.531131,
     "end_time": "2021-09-09T09:30:06.794437",
     "exception": false,
     "start_time": "2021-09-09T09:29:56.263306",
     "status": "completed"
    },
    "tags": []
   },
   "outputs": [],
   "source": [
    "from sklearn.decomposition import PCA\n",
    "def pca_variance_matrix(df) : \n",
    "    pca = PCA()\n",
    "    _ = pca.fit_transform(df.drop('claim',axis=1))\n",
    "    explained_variance=pca.explained_variance_ratio_\n",
    "    return explained_variance\n",
    "\n",
    "explained_variance = pca_variance_matrix(df_all)"
   ]
  },
  {
   "cell_type": "code",
   "execution_count": 31,
   "id": "0a193473",
   "metadata": {
    "execution": {
     "iopub.execute_input": "2021-09-09T09:30:06.900218Z",
     "iopub.status.busy": "2021-09-09T09:30:06.899304Z",
     "iopub.status.idle": "2021-09-09T09:30:07.443557Z",
     "shell.execute_reply": "2021-09-09T09:30:07.444186Z",
     "shell.execute_reply.started": "2021-09-01T22:44:43.551397Z"
    },
    "id": "mo-oF89dW8sk",
    "outputId": "5a185d07-9187-4fef-b81d-1f773a056981",
    "papermill": {
     "duration": 0.598984,
     "end_time": "2021-09-09T09:30:07.444356",
     "exception": false,
     "start_time": "2021-09-09T09:30:06.845372",
     "status": "completed"
    },
    "tags": []
   },
   "outputs": [
    {
     "data": {
      "image/png": "[encoded data removed]",
      "text/plain": [
       "<Figure size 432x288 with 1 Axes>"
      ]
     },
     "metadata": {},
     "output_type": "display_data"
    }
   ],
   "source": [
    "def explained_variance_plot (explained_variance) : \n",
    "    with plt.style.context('dark_background'):\n",
    "        plt.figure(figsize=(6, 4))\n",
    "        plt.bar(range(explained_variance.shape[0]), explained_variance, alpha=0.5, align='center',label='individual explained variance')\n",
    "        plt.ylabel('Explained variance ratio')\n",
    "        plt.xlabel('Principal components')\n",
    "        plt.legend(loc='best')\n",
    "        plt.tight_layout()\n",
    "\n",
    "explained_variance_plot (explained_variance) "
   ]
  },
  {
   "cell_type": "code",
   "execution_count": 32,
   "id": "1787f8cf",
   "metadata": {
    "execution": {
     "iopub.execute_input": "2021-09-09T09:30:07.557068Z",
     "iopub.status.busy": "2021-09-09T09:30:07.556137Z",
     "iopub.status.idle": "2021-09-09T09:30:07.561778Z",
     "shell.execute_reply": "2021-09-09T09:30:07.561269Z",
     "shell.execute_reply.started": "2021-09-01T22:44:44.179252Z"
    },
    "id": "iZGSyLkfW8sk",
    "papermill": {
     "duration": 0.06563,
     "end_time": "2021-09-09T09:30:07.561903",
     "exception": false,
     "start_time": "2021-09-09T09:30:07.496273",
     "status": "completed"
    },
    "tags": []
   },
   "outputs": [],
   "source": [
    "def pca_fitting (nb , df) : \n",
    "    pca=PCA(n_components=nb) # ou nb  le nb de dimensions choisis ....\n",
    "    X_new=pca.fit_transform(df.drop('loss',axis=1))\n",
    "    return X_new "
   ]
  },
  {
   "cell_type": "code",
   "execution_count": 33,
   "id": "0882b8a5",
   "metadata": {
    "execution": {
     "iopub.execute_input": "2021-09-09T09:30:07.669913Z",
     "iopub.status.busy": "2021-09-09T09:30:07.669035Z",
     "iopub.status.idle": "2021-09-09T09:30:07.672152Z",
     "shell.execute_reply": "2021-09-09T09:30:07.671538Z",
     "shell.execute_reply.started": "2021-09-01T22:44:44.187463Z"
    },
    "id": "sorcpcUvW8sk",
    "papermill": {
     "duration": 0.05843,
     "end_time": "2021-09-09T09:30:07.672286",
     "exception": false,
     "start_time": "2021-09-09T09:30:07.613856",
     "status": "completed"
    },
    "tags": []
   },
   "outputs": [],
   "source": [
    "# X_new = pca_fitting (df)"
   ]
  },
  {
   "cell_type": "code",
   "execution_count": 34,
   "id": "45c999d8",
   "metadata": {
    "execution": {
     "iopub.execute_input": "2021-09-09T09:30:07.786250Z",
     "iopub.status.busy": "2021-09-09T09:30:07.785494Z",
     "iopub.status.idle": "2021-09-09T09:30:07.902714Z",
     "shell.execute_reply": "2021-09-09T09:30:07.902057Z",
     "shell.execute_reply.started": "2021-09-01T22:44:44.203344Z"
    },
    "id": "itbfOTIZW8sl",
    "papermill": {
     "duration": 0.177441,
     "end_time": "2021-09-09T09:30:07.902851",
     "exception": false,
     "start_time": "2021-09-09T09:30:07.725410",
     "status": "completed"
    },
    "tags": []
   },
   "outputs": [],
   "source": [
    "train, test = divide_df(df_all,train.shape[0])"
   ]
  },
  {
   "cell_type": "markdown",
   "id": "e689e5e4",
   "metadata": {
    "id": "v56RgxavW8sl",
    "papermill": {
     "duration": 0.051548,
     "end_time": "2021-09-09T09:30:08.006800",
     "exception": false,
     "start_time": "2021-09-09T09:30:07.955252",
     "status": "completed"
    },
    "tags": []
   },
   "source": [
    "6. Modeling"
   ]
  },
  {
   "cell_type": "markdown",
   "id": "754aa407",
   "metadata": {
    "id": "8Fk3qkPicm5T",
    "papermill": {
     "duration": 0.052354,
     "end_time": "2021-09-09T09:30:08.111514",
     "exception": false,
     "start_time": "2021-09-09T09:30:08.059160",
     "status": "completed"
    },
    "tags": []
   },
   "source": [
    "Fasten your belt : The modeling part coded by SBH in an original way ..."
   ]
  },
  {
   "cell_type": "markdown",
   "id": "4d21d24b",
   "metadata": {
    "id": "P0WTDQdrW8sl",
    "papermill": {
     "duration": 0.051328,
     "end_time": "2021-09-09T09:30:08.215830",
     "exception": false,
     "start_time": "2021-09-09T09:30:08.164502",
     "status": "completed"
    },
    "tags": []
   },
   "source": [
    "6.1 Gridsearch CV"
   ]
  },
  {
   "cell_type": "markdown",
   "id": "7df4db9e",
   "metadata": {
    "id": "K293UrWWcZK1",
    "papermill": {
     "duration": 0.052738,
     "end_time": "2021-09-09T09:30:08.320843",
     "exception": false,
     "start_time": "2021-09-09T09:30:08.268105",
     "status": "completed"
    },
    "tags": []
   },
   "source": [
    "It consists on an Exhaustive search over specified parameter values for an estimator.\n",
    "\n",
    "Important members are fit, predict.\n",
    "\n",
    "GridSearchCV implements a “fit” and a “score” method. It also implements “score_samples”, “predict”, “predict_proba”, “decision_function”, “transform” and “inverse_transform” if they are implemented in the estimator used.\n",
    "\n",
    "The parameters of the estimator used to apply these methods are optimized by cross-validated grid-search over a parameter grid."
   ]
  },
  {
   "cell_type": "code",
   "execution_count": 35,
   "id": "c7a08c49",
   "metadata": {
    "execution": {
     "iopub.execute_input": "2021-09-09T09:30:08.434065Z",
     "iopub.status.busy": "2021-09-09T09:30:08.433437Z",
     "iopub.status.idle": "2021-09-09T09:30:08.436141Z",
     "shell.execute_reply": "2021-09-09T09:30:08.435630Z",
     "shell.execute_reply.started": "2021-09-01T22:45:03.319752Z"
    },
    "id": "E5wcWZARW8sl",
    "papermill": {
     "duration": 0.063568,
     "end_time": "2021-09-09T09:30:08.436288",
     "exception": false,
     "start_time": "2021-09-09T09:30:08.372720",
     "status": "completed"
    },
    "tags": []
   },
   "outputs": [],
   "source": [
    "model = CatBoostClassifier() , \n",
    "parameters =  {'depth'         : [6,8,10], \n",
    "                  'learning_rate' : [0.01, 0.05, 0.1],      \n",
    "                  'iterations'    : [1000,5000,10000]\n",
    "                 }, \n",
    "cv = 2, \n",
    "n_jobs=-1"
   ]
  },
  {
   "cell_type": "code",
   "execution_count": 36,
   "id": "35151bce",
   "metadata": {
    "execution": {
     "iopub.execute_input": "2021-09-09T09:30:08.560193Z",
     "iopub.status.busy": "2021-09-09T09:30:08.559497Z",
     "iopub.status.idle": "2021-09-09T09:30:08.566266Z",
     "shell.execute_reply": "2021-09-09T09:30:08.567883Z",
     "shell.execute_reply.started": "2021-09-01T22:45:03.67964Z"
    },
    "id": "s-T66_fsW8sl",
    "papermill": {
     "duration": 0.080515,
     "end_time": "2021-09-09T09:30:08.568171",
     "exception": false,
     "start_time": "2021-09-09T09:30:08.487656",
     "status": "completed"
    },
    "tags": []
   },
   "outputs": [],
   "source": [
    "import numpy as np\n",
    "import pandas as pd\n",
    "from tqdm import tqdm\n",
    "from sklearn.model_selection import GridSearchCV\n",
    "class GridSearch :\n",
    "  def __init__(self,train,test) :\n",
    "    self.data = train\n",
    "    self.X_train = train.drop('claim',axis=1)\n",
    "    self.y_train = train['claim']\n",
    "    self.X_test = test\n",
    "  def model (self,model) :\n",
    "    self.model = model\n",
    "  def parameters (self, parameters) :\n",
    "    self.parameters = parameters\n",
    "  def GridSearch (self) :\n",
    "    self.grid = GridSearchCV(estimator=self.model, param_grid = self.parameters, cv = 5, n_jobs=-1)\n",
    "  def Gridfit (self) :\n",
    "    self.grid.fit(np.asarray(self.X_train),np.asarray(self.y_train))\n",
    "  def finalfit (self) :\n",
    "    self.grid.best_estimator_.fit(np.asarray(self.X_train),np.asarray(self.y_train))\n",
    "  def predict(self):\n",
    "    self.pred = self.grid.best_estimator_.predict(np.asarray(self.X_test))\n",
    "    return (self.pred)\n",
    "#   def score(self,label):\n",
    "#     from sklearn.metrics import mean_absolute_error\n",
    "#     mean_absolute_error(label,self.pred)\n"
   ]
  },
  {
   "cell_type": "code",
   "execution_count": 37,
   "id": "3a6ce26e",
   "metadata": {
    "execution": {
     "iopub.execute_input": "2021-09-09T09:30:08.748409Z",
     "iopub.status.busy": "2021-09-09T09:30:08.747752Z",
     "iopub.status.idle": "2021-09-09T09:30:08.750737Z",
     "shell.execute_reply": "2021-09-09T09:30:08.751209Z",
     "shell.execute_reply.started": "2021-09-01T22:45:21.259178Z"
    },
    "id": "B356B-MiW8sm",
    "papermill": {
     "duration": 0.110521,
     "end_time": "2021-09-09T09:30:08.751375",
     "exception": false,
     "start_time": "2021-09-09T09:30:08.640854",
     "status": "completed"
    },
    "tags": []
   },
   "outputs": [],
   "source": [
    "# gridsearch = GridSearch(train,test)\n",
    "# gridsearch.model(model)\n",
    "# gridsearch.parameters(parameters)\n",
    "# gridsearch.GridSearch()\n",
    "# gridsearch.Gridfit()\n",
    "# gridsearch.finalfit()\n",
    "# gridsearch.predict()"
   ]
  },
  {
   "cell_type": "markdown",
   "id": "1864d70c",
   "metadata": {
    "id": "6EaxTuUQcsNx",
    "papermill": {
     "duration": 0.05112,
     "end_time": "2021-09-09T09:30:08.853878",
     "exception": false,
     "start_time": "2021-09-09T09:30:08.802758",
     "status": "completed"
    },
    "tags": []
   },
   "source": [
    "6.2 StratifiedKFold_Train "
   ]
  },
  {
   "cell_type": "markdown",
   "id": "26f267df",
   "metadata": {
    "id": "ZhUD7Ob6c2qo",
    "papermill": {
     "duration": 0.050834,
     "end_time": "2021-09-09T09:30:08.956174",
     "exception": false,
     "start_time": "2021-09-09T09:30:08.905340",
     "status": "completed"
    },
    "tags": []
   },
   "source": [
    "Stratified K-Folds cross-validator.\n",
    "\n",
    "Provides train/test indices to split data in train/test sets.\n",
    "\n",
    "This cross-validation object is a variation of KFold that returns stratified folds. The folds are made by preserving the percentage of samples for each class."
   ]
  },
  {
   "cell_type": "code",
   "execution_count": 38,
   "id": "1097c65b",
   "metadata": {
    "execution": {
     "iopub.execute_input": "2021-09-09T09:30:09.062463Z",
     "iopub.status.busy": "2021-09-09T09:30:09.061788Z",
     "iopub.status.idle": "2021-09-09T09:30:09.066200Z",
     "shell.execute_reply": "2021-09-09T09:30:09.066652Z",
     "shell.execute_reply.started": "2021-09-01T22:45:27.999229Z"
    },
    "id": "sfC68YFaW8sm",
    "papermill": {
     "duration": 0.059383,
     "end_time": "2021-09-09T09:30:09.066811",
     "exception": false,
     "start_time": "2021-09-09T09:30:09.007428",
     "status": "completed"
    },
    "tags": []
   },
   "outputs": [],
   "source": [
    "def features_type (df) : \n",
    "  numerical = df.dtypes[df.dtypes != \"object\"].index\n",
    "  non_num = []\n",
    "  for x in  list(df.columns) : \n",
    "      if x not in numerical : \n",
    "          non_num.append(x)\n",
    "  return numerical , non_num"
   ]
  },
  {
   "cell_type": "code",
   "execution_count": 39,
   "id": "4b64dc03",
   "metadata": {
    "execution": {
     "iopub.execute_input": "2021-09-09T09:30:09.172926Z",
     "iopub.status.busy": "2021-09-09T09:30:09.172369Z",
     "iopub.status.idle": "2021-09-09T09:30:09.177169Z",
     "shell.execute_reply": "2021-09-09T09:30:09.177642Z",
     "shell.execute_reply.started": "2021-09-01T22:45:28.708725Z"
    },
    "id": "vHsvFTFTW8sm",
    "papermill": {
     "duration": 0.059844,
     "end_time": "2021-09-09T09:30:09.177799",
     "exception": false,
     "start_time": "2021-09-09T09:30:09.117955",
     "status": "completed"
    },
    "tags": []
   },
   "outputs": [],
   "source": [
    "numerical , non_num = features_type (train)"
   ]
  },
  {
   "cell_type": "code",
   "execution_count": 40,
   "id": "5e5b31b4",
   "metadata": {
    "execution": {
     "iopub.execute_input": "2021-09-09T09:30:09.283508Z",
     "iopub.status.busy": "2021-09-09T09:30:09.282881Z",
     "iopub.status.idle": "2021-09-09T09:30:09.287254Z",
     "shell.execute_reply": "2021-09-09T09:30:09.287765Z",
     "shell.execute_reply.started": "2021-09-01T22:45:29.278761Z"
    },
    "id": "q3ETpVNdW8sm",
    "outputId": "4b3f59d3-aa78-44f9-d97a-bb74d278f892",
    "papermill": {
     "duration": 0.058617,
     "end_time": "2021-09-09T09:30:09.287959",
     "exception": false,
     "start_time": "2021-09-09T09:30:09.229342",
     "status": "completed"
    },
    "tags": []
   },
   "outputs": [
    {
     "data": {
      "text/plain": [
       "[]"
      ]
     },
     "execution_count": 40,
     "metadata": {},
     "output_type": "execute_result"
    }
   ],
   "source": [
    "non_num"
   ]
  },
  {
   "cell_type": "code",
   "execution_count": 41,
   "id": "9072f507",
   "metadata": {
    "execution": {
     "iopub.execute_input": "2021-09-09T09:30:09.394983Z",
     "iopub.status.busy": "2021-09-09T09:30:09.394376Z",
     "iopub.status.idle": "2021-09-09T09:30:09.398877Z",
     "shell.execute_reply": "2021-09-09T09:30:09.399444Z",
     "shell.execute_reply.started": "2021-09-01T22:45:29.699013Z"
    },
    "id": "1plzxMboW8sn",
    "papermill": {
     "duration": 0.059023,
     "end_time": "2021-09-09T09:30:09.399606",
     "exception": false,
     "start_time": "2021-09-09T09:30:09.340583",
     "status": "completed"
    },
    "tags": []
   },
   "outputs": [],
   "source": [
    "\n",
    "class CFG_Catboost :\n",
    "  SEED = 42\n",
    "  n_splits = 5\n",
    "  catboost_params = {'learning_rate':0.05,'iterations':10000,'eval_metric':'Accuracy',\n",
    "                      'use_best_model' :True,'verbose':100,'random_seed': 0,'loss_function':'MultiClass',\n",
    "                         'leaf_estimation_method':'Newton'}\n",
    "\n",
    "  remove_features = ['claim']\n",
    "  categ_features = non_num\n",
    "  TARGET_COL = 'claim'"
   ]
  },
  {
   "cell_type": "code",
   "execution_count": 42,
   "id": "4da1b69a",
   "metadata": {
    "execution": {
     "iopub.execute_input": "2021-09-09T09:30:09.505895Z",
     "iopub.status.busy": "2021-09-09T09:30:09.505350Z",
     "iopub.status.idle": "2021-09-09T09:30:09.509698Z",
     "shell.execute_reply": "2021-09-09T09:30:09.510146Z",
     "shell.execute_reply.started": "2021-09-01T22:45:30.598624Z"
    },
    "id": "vLNCwtx8W8sn",
    "papermill": {
     "duration": 0.058741,
     "end_time": "2021-09-09T09:30:09.510309",
     "exception": false,
     "start_time": "2021-09-09T09:30:09.451568",
     "status": "completed"
    },
    "tags": []
   },
   "outputs": [],
   "source": [
    "def features_utils (train):\n",
    "  features_columns = [col for col in train.columns if col not in CFG_Catboost.remove_features]\n",
    "  return features_columns"
   ]
  },
  {
   "cell_type": "code",
   "execution_count": 43,
   "id": "17de5f18",
   "metadata": {
    "execution": {
     "iopub.execute_input": "2021-09-09T09:30:09.618379Z",
     "iopub.status.busy": "2021-09-09T09:30:09.617760Z",
     "iopub.status.idle": "2021-09-09T09:30:09.619559Z",
     "shell.execute_reply": "2021-09-09T09:30:09.620009Z",
     "shell.execute_reply.started": "2021-09-01T22:45:31.085269Z"
    },
    "id": "l6xtf1spW8so",
    "papermill": {
     "duration": 0.057746,
     "end_time": "2021-09-09T09:30:09.620168",
     "exception": false,
     "start_time": "2021-09-09T09:30:09.562422",
     "status": "completed"
    },
    "tags": []
   },
   "outputs": [],
   "source": [
    "features_columns = features_utils (train)"
   ]
  },
  {
   "cell_type": "code",
   "execution_count": 44,
   "id": "41e9eada",
   "metadata": {
    "execution": {
     "iopub.execute_input": "2021-09-09T09:30:09.728576Z",
     "iopub.status.busy": "2021-09-09T09:30:09.727912Z",
     "iopub.status.idle": "2021-09-09T09:30:09.732207Z",
     "shell.execute_reply": "2021-09-09T09:30:09.732634Z",
     "shell.execute_reply.started": "2021-09-01T22:45:32.041438Z"
    },
    "id": "px9tD8PGW8so",
    "papermill": {
     "duration": 0.059469,
     "end_time": "2021-09-09T09:30:09.732803",
     "exception": false,
     "start_time": "2021-09-09T09:30:09.673334",
     "status": "completed"
    },
    "tags": []
   },
   "outputs": [],
   "source": [
    "def divide_train (train):\n",
    "  skf = StratifiedKFold(n_splits=CFG_Catboost.n_splits,shuffle=True, random_state=CFG_Catboost.SEED)\n",
    "  X , y   = train[features_columns] , train[CFG_Catboost.TARGET_COL]\n",
    "  return X,y,skf"
   ]
  },
  {
   "cell_type": "code",
   "execution_count": 45,
   "id": "2edcf7f2",
   "metadata": {
    "execution": {
     "iopub.execute_input": "2021-09-09T09:30:09.846992Z",
     "iopub.status.busy": "2021-09-09T09:30:09.845431Z",
     "iopub.status.idle": "2021-09-09T09:30:10.083601Z",
     "shell.execute_reply": "2021-09-09T09:30:10.082960Z",
     "shell.execute_reply.started": "2021-09-01T22:45:32.504641Z"
    },
    "id": "KsNuR89UW8so",
    "papermill": {
     "duration": 0.298846,
     "end_time": "2021-09-09T09:30:10.083740",
     "exception": false,
     "start_time": "2021-09-09T09:30:09.784894",
     "status": "completed"
    },
    "tags": []
   },
   "outputs": [],
   "source": [
    "from sklearn.model_selection import StratifiedKFold\n",
    "X,y,skf = divide_train (train)"
   ]
  },
  {
   "cell_type": "code",
   "execution_count": 46,
   "id": "f365a938",
   "metadata": {
    "execution": {
     "iopub.execute_input": "2021-09-09T09:30:10.195791Z",
     "iopub.status.busy": "2021-09-09T09:30:10.194828Z",
     "iopub.status.idle": "2021-09-09T09:30:10.197850Z",
     "shell.execute_reply": "2021-09-09T09:30:10.197282Z",
     "shell.execute_reply.started": "2021-09-01T22:45:34.306858Z"
    },
    "id": "Myuiy29jW8sp",
    "papermill": {
     "duration": 0.062092,
     "end_time": "2021-09-09T09:30:10.198001",
     "exception": false,
     "start_time": "2021-09-09T09:30:10.135909",
     "status": "completed"
    },
    "tags": []
   },
   "outputs": [],
   "source": [
    "def StratifiedKFold_Train(X,y):\n",
    "  # oof_cat = np.zeros((train.shape[0],))\n",
    "  test['target'] = 0\n",
    "  cat_preds= []\n",
    "  for fold_, (trn_idx, val_idx) in enumerate(skf.split(X,y)):\n",
    "      print(50*'-')\n",
    "      print('Fold:',fold_+1)\n",
    "      X_train, y_train = X.iloc[trn_idx,:], y[trn_idx] \n",
    "      X_test, y_test = X.iloc[val_idx,:], y[val_idx] \n",
    "        \n",
    "      estimator = CatBoostClassifier(**CFG_Catboost.catboost_params)\n",
    "      estimator.fit(Pool(X_train,y_train,cat_features = CFG_Catboost.categ_features),\n",
    "                    eval_set = Pool(X_test,y_test,cat_features = CFG_Catboost.categ_features),\n",
    "                    early_stopping_rounds=200)\n",
    "      \n",
    "      # y_pred_val = estimator.predict(X_test)\n",
    "      # oof_cat[val_idx] = y_pred_val\n",
    "      y_pred_test = estimator.predict(test[features_columns])\n",
    "      cat_preds.append(y_pred_test)\n",
    "      print(50*'-')\n",
    "      print()\n",
    "  return cat_preds\n",
    "\n"
   ]
  },
  {
   "cell_type": "code",
   "execution_count": 47,
   "id": "7ad0f597",
   "metadata": {
    "execution": {
     "iopub.execute_input": "2021-09-09T09:30:10.306606Z",
     "iopub.status.busy": "2021-09-09T09:30:10.305978Z",
     "iopub.status.idle": "2021-09-09T09:30:10.308697Z",
     "shell.execute_reply": "2021-09-09T09:30:10.308244Z",
     "shell.execute_reply.started": "2021-09-01T22:45:36.939249Z"
    },
    "id": "hgdm5u1CW8sp",
    "papermill": {
     "duration": 0.058452,
     "end_time": "2021-09-09T09:30:10.308832",
     "exception": false,
     "start_time": "2021-09-09T09:30:10.250380",
     "status": "completed"
    },
    "tags": []
   },
   "outputs": [],
   "source": [
    "from catboost import CatBoostClassifier ,Pool\n",
    "# cat_preds = StratifiedKFold_Train(X,y)"
   ]
  },
  {
   "cell_type": "markdown",
   "id": "eb639bed",
   "metadata": {
    "id": "4LhpQORCW8sp",
    "papermill": {
     "duration": 0.051462,
     "end_time": "2021-09-09T09:30:10.413369",
     "exception": false,
     "start_time": "2021-09-09T09:30:10.361907",
     "status": "completed"
    },
    "tags": []
   },
   "source": [
    "6.3 Stacking"
   ]
  },
  {
   "cell_type": "markdown",
   "id": "9c64ca60",
   "metadata": {
    "id": "6lN5GtLxdFiw",
    "papermill": {
     "duration": 0.051508,
     "end_time": "2021-09-09T09:30:10.516688",
     "exception": false,
     "start_time": "2021-09-09T09:30:10.465180",
     "status": "completed"
    },
    "tags": []
   },
   "source": [
    "Stacking was introduced by Wolpert in the paper Stacked Generalization in 1992. It is a method that uses k-fold for training base models which then make predictions on the left out fold. These so-called out of fold predictions are then used to train another model — the meta model — which can use the information produced by the base models to make final predictions.\n",
    "\n",
    "To implement this functionality we need to first train each base model k times (k…Number of folds) and then use their predictions to train our meta model.\n",
    "\n",
    "To even get better results we can not only use the predictions of all the base models for  training the meta model but also the initial features. Because of the added model complexity which is caused when adding the input features we should make a boolean parameter to determine whether we want to use input features."
   ]
  },
  {
   "cell_type": "code",
   "execution_count": 48,
   "id": "f194a0df",
   "metadata": {
    "execution": {
     "iopub.execute_input": "2021-09-09T09:30:10.637209Z",
     "iopub.status.busy": "2021-09-09T09:30:10.636549Z",
     "iopub.status.idle": "2021-09-09T09:30:10.639447Z",
     "shell.execute_reply": "2021-09-09T09:30:10.638992Z",
     "shell.execute_reply.started": "2021-09-01T22:45:38.720322Z"
    },
    "id": "fcaChwzyW8sp",
    "papermill": {
     "duration": 0.07103,
     "end_time": "2021-09-09T09:30:10.639581",
     "exception": false,
     "start_time": "2021-09-09T09:30:10.568551",
     "status": "completed"
    },
    "tags": []
   },
   "outputs": [],
   "source": [
    "from sklearn.base import BaseEstimator, TransformerMixin, clone, RegressorMixin\n",
    "from sklearn.model_selection import KFold\n",
    "import numpy as np\n",
    "\n",
    "\n",
    "class StackingModels(BaseEstimator, RegressorMixin, TransformerMixin):\n",
    "    def __init__(self, base_models, meta_model, n_folds=5, task_type='classification', use_features_in_secondary=False):\n",
    "        self.base_models = base_models\n",
    "        self.meta_model = meta_model\n",
    "        self.n_folds = n_folds\n",
    "        self.task_type = task_type\n",
    "        self.use_features_in_secondary = use_features_in_secondary\n",
    "\n",
    "    def fit(self, X, y):\n",
    "        \"\"\"Fit all the models on the given dataset\"\"\"\n",
    "        self.base_models_ = [list() for _ in self.base_models]\n",
    "        self.meta_model_ = clone(self.meta_model)\n",
    "        kfold = KFold(n_splits=self.n_folds, shuffle=True, random_state=42)\n",
    "\n",
    "        # Train cloned base models and create out-of-fold predictions\n",
    "        out_of_fold_predictions = np.zeros((X.shape[0], len(self.base_models)))\n",
    "        for i, model in enumerate(self.base_models):\n",
    "            for train_index, holdout_index in kfold.split(X, y):\n",
    "                instance = clone(model)\n",
    "                self.base_models_[i].append(instance)\n",
    "                instance.fit(X[train_index], y[train_index])\n",
    "                y_pred = instance.predict(X[holdout_index])\n",
    "                out_of_fold_predictions[holdout_index, i] = y_pred\n",
    "\n",
    "        if self.use_features_in_secondary:\n",
    "            self.meta_model_.fit(np.hstack((X, out_of_fold_predictions)), y)\n",
    "        else:\n",
    "            self.meta_model_.fit(out_of_fold_predictions, y)\n",
    "\n",
    "        return self\n",
    "\n",
    "    def predict(self, X):\n",
    "        if self.task_type == 'classification':\n",
    "            meta_features = np.column_stack([[np.argmax(np.bincount(predictions)) for predictions in\n",
    "                                              np.column_stack([model.predict(X) for model in base_models])]\n",
    "                                             for base_models in self.base_models_])\n",
    "        else:\n",
    "            meta_features = np.column_stack([\n",
    "                np.column_stack([model.predict(X) for model in base_models]).mean(axis=1)\n",
    "                for base_models in self.base_models_])\n",
    "        if self.use_features_in_secondary:\n",
    "            return self.meta_model_.predict(np.hstack((X, meta_features)))\n",
    "        else:\n",
    "            return self.meta_model_.predict(meta_features)\n",
    "\n",
    "    def predict_proba(self, X):\n",
    "        if self.task_type == 'classification':\n",
    "            meta_features = np.column_stack([[np.argmax(np.bincount(predictions)) for predictions in\n",
    "                                              np.column_stack([model.predict(X) for model in base_models])]\n",
    "                                             for base_models in self.base_models_])\n",
    "            if self.use_features_in_secondary:\n",
    "                return self.meta_model_.predict_proba(np.hstack((X, meta_features)))\n",
    "            else:\n",
    "                return self.meta_model_.predict_proba(meta_features)"
   ]
  },
  {
   "cell_type": "code",
   "execution_count": 49,
   "id": "17458369",
   "metadata": {
    "execution": {
     "iopub.execute_input": "2021-09-09T09:30:10.749321Z",
     "iopub.status.busy": "2021-09-09T09:30:10.748711Z",
     "iopub.status.idle": "2021-09-09T09:30:10.751642Z",
     "shell.execute_reply": "2021-09-09T09:30:10.751183Z",
     "shell.execute_reply.started": "2021-09-01T22:45:39.006716Z"
    },
    "id": "WiBmnvIoW8sq",
    "papermill": {
     "duration": 0.060443,
     "end_time": "2021-09-09T09:30:10.751785",
     "exception": false,
     "start_time": "2021-09-09T09:30:10.691342",
     "status": "completed"
    },
    "tags": []
   },
   "outputs": [],
   "source": [
    "from sklearn.model_selection import KFold, cross_val_score\n",
    "n_folds = 5 # number of folds\n",
    "def get_cv_scores(model, X, y, print_scores=True):\n",
    "    kf = KFold(n_folds, shuffle=True, random_state=42).get_n_splits(X) # create folds\n",
    "    rmse = np.sqrt(-cross_val_score(model, X, y, scoring=\"neg_mean_squared_error\", cv = kf)) # get rmse\n",
    "    if print_scores:\n",
    "        print(f'Root mean squared error: {rmse.mean():.3f} ({rmse.std():.3f})')\n",
    "    return [rmse]"
   ]
  },
  {
   "cell_type": "code",
   "execution_count": 50,
   "id": "ea869f6b",
   "metadata": {
    "execution": {
     "iopub.execute_input": "2021-09-09T09:30:10.867313Z",
     "iopub.status.busy": "2021-09-09T09:30:10.866538Z",
     "iopub.status.idle": "2021-09-09T09:30:11.960795Z",
     "shell.execute_reply": "2021-09-09T09:30:11.959569Z",
     "shell.execute_reply.started": "2021-09-01T22:45:39.783334Z"
    },
    "id": "qmn-WCOPW8sq",
    "papermill": {
     "duration": 1.157028,
     "end_time": "2021-09-09T09:30:11.960988",
     "exception": false,
     "start_time": "2021-09-09T09:30:10.803960",
     "status": "completed"
    },
    "tags": []
   },
   "outputs": [
    {
     "data": {
      "text/html": [
       "<style type='text/css'>\n",
       ".datatable table.frame { margin-bottom: 0; }\n",
       ".datatable table.frame thead { border-bottom: none; }\n",
       ".datatable table.frame tr.coltypes td {  color: #FFFFFF;  line-height: 6px;  padding: 0 0.5em;}\n",
       ".datatable .bool    { background: #DDDD99; }\n",
       ".datatable .object  { background: #565656; }\n",
       ".datatable .int     { background: #5D9E5D; }\n",
       ".datatable .float   { background: #4040CC; }\n",
       ".datatable .str     { background: #CC4040; }\n",
       ".datatable .time    { background: #40CC40; }\n",
       ".datatable .row_index {  background: var(--jp-border-color3);  border-right: 1px solid var(--jp-border-color0);  color: var(--jp-ui-font-color3);  font-size: 9px;}\n",
       ".datatable .frame tbody td { text-align: left; }\n",
       ".datatable .frame tr.coltypes .row_index {  background: var(--jp-border-color0);}\n",
       ".datatable th:nth-child(2) { padding-left: 12px; }\n",
       ".datatable .hellipsis {  color: var(--jp-cell-editor-border-color);}\n",
       ".datatable .vellipsis {  background: var(--jp-layout-color0);  color: var(--jp-cell-editor-border-color);}\n",
       ".datatable .na {  color: var(--jp-cell-editor-border-color);  font-size: 80%;}\n",
       ".datatable .sp {  opacity: 0.25;}\n",
       ".datatable .footer { font-size: 9px; }\n",
       ".datatable .frame_dimensions {  background: var(--jp-border-color3);  border-top: 1px solid var(--jp-border-color0);  color: var(--jp-ui-font-color3);  display: inline-block;  opacity: 0.6;  padding: 1px 10px 1px 5px;}\n",
       "</style>\n"
      ],
      "text/plain": [
       "<IPython.core.display.HTML object>"
      ]
     },
     "metadata": {},
     "output_type": "display_data"
    }
   ],
   "source": [
    "import numpy as np\n",
    "import pandas as pd\n",
    "import matplotlib.pyplot as plt\n",
    "%matplotlib inline\n",
    "import seaborn as sns\n",
    "import pathlib\n",
    "from scipy import stats\n",
    "from scipy.stats import norm, skew\n",
    "\n",
    "from sklearn.linear_model import Lasso\n",
    "from sklearn.ensemble import GradientBoostingRegressor, RandomForestRegressor\n",
    "from sklearn.pipeline import make_pipeline\n",
    "from sklearn.preprocessing import RobustScaler\n",
    "\n",
    "import xgboost as xgb\n",
    "import lightgbm as lgb\n",
    "\n",
    "lasso_model = make_pipeline(RobustScaler(), Lasso(alpha=0.0005, random_state=1))\n",
    "rf = RandomForestRegressor()\n",
    "gbr = GradientBoostingRegressor()\n",
    "xgb_model = xgb.XGBRegressor()\n",
    "lgb_model = lgb.LGBMRegressor()\n",
    "# for model in [lasso_model, rf, gbr, xgb_model, lgb_model]:\n",
    "#     get_cv_scores(model, X, train.claim)"
   ]
  },
  {
   "cell_type": "code",
   "execution_count": 51,
   "id": "2071b0b5",
   "metadata": {
    "execution": {
     "iopub.execute_input": "2021-09-09T09:30:12.088233Z",
     "iopub.status.busy": "2021-09-09T09:30:12.087598Z",
     "iopub.status.idle": "2021-09-09T09:30:12.090525Z",
     "shell.execute_reply": "2021-09-09T09:30:12.090075Z",
     "shell.execute_reply.started": "2021-09-01T22:45:41.238582Z"
    },
    "id": "5uxKXMReW8ss",
    "papermill": {
     "duration": 0.075475,
     "end_time": "2021-09-09T09:30:12.090661",
     "exception": false,
     "start_time": "2021-09-09T09:30:12.015186",
     "status": "completed"
    },
    "tags": []
   },
   "outputs": [],
   "source": [
    "stacking_model1 = StackingModels([gbr, lgb_model, xgb_model], lasso_model)\n",
    "# get_cv_scores(stacking_model1, X, y_train);\n"
   ]
  },
  {
   "cell_type": "markdown",
   "id": "d0f100ef",
   "metadata": {
    "execution": {
     "iopub.execute_input": "2021-09-01T22:47:12.906519Z",
     "iopub.status.busy": "2021-09-01T22:47:12.906112Z",
     "iopub.status.idle": "2021-09-01T22:47:12.91328Z",
     "shell.execute_reply": "2021-09-01T22:47:12.912081Z",
     "shell.execute_reply.started": "2021-09-01T22:47:12.906488Z"
    },
    "papermill": {
     "duration": 0.05656,
     "end_time": "2021-09-09T09:30:12.200400",
     "exception": false,
     "start_time": "2021-09-09T09:30:12.143840",
     "status": "completed"
    },
    "tags": []
   },
   "source": [
    "So choose the best model/combination you want in order to win the competition. \n",
    "I am waiting for your upvotes/comments . Do not hesitate to contact me if you have any question "
   ]
  }
 ],
 "metadata": {
  "kernelspec": {
   "display_name": "Python 3",
   "language": "python",
   "name": "python3"
  },
  "language_info": {
   "codemirror_mode": {
    "name": "ipython",
    "version": 3
   },
   "file_extension": ".py",
   "mimetype": "text/x-python",
   "name": "python",
   "nbconvert_exporter": "python",
   "pygments_lexer": "ipython3",
   "version": "3.7.10"
  },
  "papermill": {
   "default_parameters": {},
   "duration": 224.012994,
   "end_time": "2021-09-09T09:30:14.334195",
   "environment_variables": {},
   "exception": null,
   "input_path": "__notebook__.ipynb",
   "output_path": "__notebook__.ipynb",
   "parameters": {},
   "start_time": "2021-09-09T09:26:30.321201",
   "version": "2.3.3"
  }
 },
 "nbformat": 4,
 "nbformat_minor": 5
}
